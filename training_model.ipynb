{
  "cells": [
    {
      "cell_type": "markdown",
      "metadata": {
        "id": "view-in-github",
        "colab_type": "text"
      },
      "source": [
        "<a href=\"https://colab.research.google.com/github/rijalsankalp/Devanagari-Character-Recognition/blob/main/training_model.ipynb\" target=\"_parent\"><img src=\"https://colab.research.google.com/assets/colab-badge.svg\" alt=\"Open In Colab\"/></a>"
      ]
    },
    {
      "cell_type": "code",
      "execution_count": null,
      "metadata": {
        "id": "8c90eedf"
      },
      "outputs": [],
      "source": [
        "import tensorflow as tf\n",
        "from tensorflow import keras\n",
        "from keras.preprocessing.image import img_to_array\n",
        "import numpy as np\n",
        "from sklearn.model_selection import train_test_split\n",
        "import os\n",
        "import cv2"
      ],
      "id": "8c90eedf"
    },
    {
      "cell_type": "code",
      "execution_count": null,
      "metadata": {
        "id": "iiG71gp8Onnc"
      },
      "outputs": [],
      "source": [
        "from google.colab import drive\n",
        "drive.mount('/content/drive')\n",
        "print(os.listdir('drive/MyDrive'))"
      ],
      "id": "iiG71gp8Onnc"
    },
    {
      "cell_type": "code",
      "execution_count": null,
      "metadata": {
        "id": "aDg6GT7_LcOs"
      },
      "outputs": [],
      "source": [
        "for_train = \"drive/MyDrive/dhcd/train\"\n",
        "for_test = \"drive/MyDrive/dhcd/test\"\n",
        "\n",
        "train_x=[]\n",
        "train_y =[]\n",
        "val_x = []\n",
        "val_y =[]\n",
        "count = 0\n",
        "\n",
        "for folder in os.listdir(for_train):\n",
        "  character_path = for_train + \"/\" + folder\n",
        "  for img in os.listdir(character_path):\n",
        "    count = count + 1\n",
        "    print(count)\n",
        "    character_img = character_path + \"/\" + img\n",
        "    img_arr = np.array( cv2.imread(character_img, cv2.IMREAD_GRAYSCALE))/255.0\n",
        "    img_arr = img_arr.reshape(32, 32,1)\n",
        "    train_x.append(img_arr)\n",
        "    train_y.append(int(str(folder)))\n",
        "\n",
        "train_x, val_x, train_y, val_y = train_test_split(train_x, train_y, test_size = 0.2, random_state = 42)\n",
        "test_y=[]\n",
        "test_x =[]\n",
        "for folder in os.listdir(for_test):\n",
        "  character_path = for_test + \"/\" + folder\n",
        "  for img in os.listdir(character_path):\n",
        "    count = count + 1\n",
        "    print(count)\n",
        "    character_img = character_path + \"/\" + img\n",
        "    img_arr = np.array(cv2.imread(character_img, cv2.IMREAD_GRAYSCALE))/255.0\n",
        "    img_arr = img_arr.reshape(32, 32,1)\n",
        "    test_x.append(img_arr)\n",
        "    test_y.append(int(str(folder)))"
      ],
      "id": "aDg6GT7_LcOs"
    },
    {
      "cell_type": "code",
      "source": [
        "train_x = np.array(train_x)\n",
        "val_x = np.array(val_x)\n",
        "train_y = np.array(train_y)\n",
        "val_y = np.array(val_y)\n",
        "\n",
        "test_x = np.array(test_x)\n",
        "test_y = np.array(test_y)"
      ],
      "metadata": {
        "id": "N8qRAyyXSvpA"
      },
      "id": "N8qRAyyXSvpA",
      "execution_count": null,
      "outputs": []
    },
    {
      "cell_type": "code",
      "execution_count": null,
      "metadata": {
        "id": "pnhdDtNCH5Gr",
        "outputId": "2f9f4f86-39f0-4400-a2f7-3189b2082928",
        "colab": {
          "base_uri": "https://localhost:8080/"
        }
      },
      "outputs": [
        {
          "output_type": "stream",
          "name": "stdout",
          "text": [
            "Model: \"sequential_5\"\n",
            "_________________________________________________________________\n",
            " Layer (type)                Output Shape              Param #   \n",
            "=================================================================\n",
            " conv2d_10 (Conv2D)          (None, 32, 32, 6)         156       \n",
            "                                                                 \n",
            " average_pooling2d_10 (Avera  (None, 16, 16, 6)        0         \n",
            " gePooling2D)                                                    \n",
            "                                                                 \n",
            " conv2d_11 (Conv2D)          (None, 12, 12, 16)        2416      \n",
            "                                                                 \n",
            " flatten_5 (Flatten)         (None, 2304)              0         \n",
            "                                                                 \n",
            " dense_15 (Dense)            (None, 120)               276600    \n",
            "                                                                 \n",
            " dense_16 (Dense)            (None, 84)                10164     \n",
            "                                                                 \n",
            " dense_17 (Dense)            (None, 61)                5185      \n",
            "                                                                 \n",
            "=================================================================\n",
            "Total params: 294,521\n",
            "Trainable params: 294,521\n",
            "Non-trainable params: 0\n",
            "_________________________________________________________________\n"
          ]
        }
      ],
      "source": [
        "lenet_5_model = keras.models.Sequential([\n",
        "    keras.layers.Conv2D(6, kernel_size=5, strides=1,  activation='tanh', input_shape=(32,32,1), padding='same'), #C1\n",
        "    keras.layers.AveragePooling2D(), #S2\n",
        "    keras.layers.Conv2D(16, kernel_size=5, strides=1, activation='relu', padding='valid'), #C3\n",
        "    keras.layers.Flatten(), #Flatten\n",
        "    keras.layers.Dense(120, activation='tanh'), #C5\n",
        "    keras.layers.Dense(84, activation='tanh'), #F6\n",
        "    keras.layers.Dense(61, activation='softmax') #Output layer\n",
        "])\n",
        "lenet_5_model.summary()"
      ],
      "id": "pnhdDtNCH5Gr"
    },
    {
      "cell_type": "code",
      "execution_count": null,
      "metadata": {
        "id": "yCYYAuxcH7pP"
      },
      "outputs": [],
      "source": [
        "lenet_5_model.compile(optimizer='adam', loss = keras.losses.sparse_categorical_crossentropy, metrics = ['accuracy'])"
      ],
      "id": "yCYYAuxcH7pP"
    },
    {
      "cell_type": "code",
      "source": [
        ""
      ],
      "metadata": {
        "id": "Cp9pozyJD_MM"
      },
      "id": "Cp9pozyJD_MM",
      "execution_count": null,
      "outputs": []
    },
    {
      "cell_type": "code",
      "execution_count": null,
      "metadata": {
        "id": "hvWeRi7tIJiv"
      },
      "outputs": [],
      "source": [
        "lenet_5_model.fit(train_x, train_y, epochs=7, validation_data=(val_x, val_y))"
      ],
      "id": "hvWeRi7tIJiv"
    },
    {
      "cell_type": "code",
      "execution_count": null,
      "metadata": {
        "id": "HMLB5k1OJb-a"
      },
      "outputs": [],
      "source": [
        "lenet_5_model.evaluate(test_x, test_y)"
      ],
      "id": "HMLB5k1OJb-a"
    },
    {
      "cell_type": "code",
      "source": [
        "lenet_5_model.save('lenetmodel', save_format=\"h5\")"
      ],
      "metadata": {
        "id": "41G8g_phXDYa"
      },
      "id": "41G8g_phXDYa",
      "execution_count": null,
      "outputs": []
    },
    {
      "cell_type": "code",
      "source": [
        "from google.colab import files"
      ],
      "metadata": {
        "id": "oTPZBWAm37le"
      },
      "id": "oTPZBWAm37le",
      "execution_count": null,
      "outputs": []
    },
    {
      "cell_type": "code",
      "source": [
        "files.download(\"/content/lenetmodel_first_modification.hd5\")"
      ],
      "metadata": {
        "id": "U-1xDNSv6Mbj"
      },
      "id": "U-1xDNSv6Mbj",
      "execution_count": null,
      "outputs": []
    }
  ],
  "metadata": {
    "colab": {
      "name": "training model.ipynb",
      "provenance": [],
      "collapsed_sections": [],
      "include_colab_link": true
    },
    "kernelspec": {
      "display_name": "Python 3 (ipykernel)",
      "language": "python",
      "name": "python3"
    },
    "language_info": {
      "codemirror_mode": {
        "name": "ipython",
        "version": 3
      },
      "file_extension": ".py",
      "mimetype": "text/x-python",
      "name": "python",
      "nbconvert_exporter": "python",
      "pygments_lexer": "ipython3",
      "version": "3.9.6"
    }
  },
  "nbformat": 4,
  "nbformat_minor": 5
}