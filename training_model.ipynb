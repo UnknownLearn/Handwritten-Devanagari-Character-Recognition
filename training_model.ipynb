{
  "cells": [
    {
      "cell_type": "markdown",
      "metadata": {
        "id": "view-in-github",
        "colab_type": "text"
      },
      "source": [
        "<a href=\"https://colab.research.google.com/github/rijalsankalp/Handwritten-Devanagari-Character-Recognition/blob/main/training_model.ipynb\" target=\"_parent\"><img src=\"https://colab.research.google.com/assets/colab-badge.svg\" alt=\"Open In Colab\"/></a>"
      ]
    },
    {
      "cell_type": "code",
      "execution_count": 1,
      "metadata": {
        "id": "8c90eedf"
      },
      "outputs": [],
      "source": [
        "import tensorflow as tf\n",
        "from tensorflow import keras\n",
        "from keras.preprocessing.image import img_to_array\n",
        "import numpy as np\n",
        "from sklearn.model_selection import train_test_split\n",
        "import os\n",
        "import cv2"
      ],
      "id": "8c90eedf"
    },
    {
      "cell_type": "code",
      "execution_count": 3,
      "metadata": {
        "id": "iiG71gp8Onnc",
        "colab": {
          "base_uri": "https://localhost:8080/"
        },
        "outputId": "e1b6b78f-ea8f-4922-8cc8-91e77ddeb0fe"
      },
      "outputs": [
        {
          "output_type": "stream",
          "name": "stdout",
          "text": [
            "Drive already mounted at /content/drive; to attempt to forcibly remount, call drive.mount(\"/content/drive\", force_remount=True).\n"
          ]
        }
      ],
      "source": [
        "from google.colab import drive\n",
        "drive.mount('/content/drive')\n",
        "#print(os.listdir('drive/MyDrive'))"
      ],
      "id": "iiG71gp8Onnc"
    },
    {
      "cell_type": "code",
      "execution_count": null,
      "metadata": {
        "id": "aDg6GT7_LcOs"
      },
      "outputs": [],
      "source": [
        "for_train = \"drive/MyDrive/dhcd/train\"\n",
        "for_test = \"drive/MyDrive/dhcd/test\"\n",
        "\n",
        "train_x=[]\n",
        "train_y =[]\n",
        "val_x = []\n",
        "val_y =[]\n",
        "#count = 0\n",
        "\n",
        "for folder in os.listdir(for_train):\n",
        "  character_path = for_train + \"/\" + folder\n",
        "  for img in os.listdir(character_path):\n",
        "    #count = count + 1\n",
        "    #print(count)\n",
        "    character_img = character_path + \"/\" + img\n",
        "    img_arr = np.array( cv2.imread(character_img, cv2.IMREAD_GRAYSCALE))/255.0\n",
        "    img_arr = img_arr.reshape(32, 32,1)\n",
        "    train_x.append(img_arr)\n",
        "    train_y.append(int(str(folder)))\n",
        "\n",
        "train_x, val_x, train_y, val_y = train_test_split(train_x, train_y, test_size = 0.2, random_state = 42)\n",
        "test_y=[]\n",
        "test_x =[]\n",
        "for folder in os.listdir(for_test):\n",
        "  character_path = for_test + \"/\" + folder\n",
        "  for img in os.listdir(character_path):\n",
        "    #count = count + 1\n",
        "    #print(count)\n",
        "    character_img = character_path + \"/\" + img\n",
        "    img_arr = np.array(cv2.imread(character_img, cv2.IMREAD_GRAYSCALE))/255.0\n",
        "    img_arr = img_arr.reshape(32, 32,1)\n",
        "    test_x.append(img_arr)\n",
        "    test_y.append(int(str(folder)))"
      ],
      "id": "aDg6GT7_LcOs"
    },
    {
      "cell_type": "code",
      "source": [
        "train_x = np.array(train_x)\n",
        "val_x = np.array(val_x)\n",
        "train_y = np.array(train_y)\n",
        "val_y = np.array(val_y)\n",
        "\n",
        "test_x = np.array(test_x)\n",
        "test_y = np.array(test_y)"
      ],
      "metadata": {
        "id": "N8qRAyyXSvpA"
      },
      "id": "N8qRAyyXSvpA",
      "execution_count": 5,
      "outputs": []
    },
    {
      "cell_type": "code",
      "execution_count": 24,
      "metadata": {
        "id": "pnhdDtNCH5Gr"
      },
      "outputs": [],
      "source": [
        "model = keras.models.Sequential([\n",
        "    keras.layers.Conv2D(6, kernel_size=5, strides=1,  activation='relu', input_shape=(32,32,1), padding='same'),\n",
        "    keras.layers.AveragePooling2D(),\n",
        "    keras.layers.Conv2D(16, kernel_size=5, strides=1, activation='relu', padding='valid'),\n",
        "    keras.layers.AveragePooling2D(),\n",
        "    keras.layers.Flatten(),\n",
        "    keras.layers.Dense(120, activation='relu'),\n",
        "    keras.layers.Dense(84, activation='relu'),\n",
        "    keras.layers.Dense(61, activation='softmax')\n",
        "])"
      ],
      "id": "pnhdDtNCH5Gr"
    },
    {
      "cell_type": "code",
      "source": [
        "model.summary()"
      ],
      "metadata": {
        "id": "Uri91R9Egn6E"
      },
      "id": "Uri91R9Egn6E",
      "execution_count": null,
      "outputs": []
    },
    {
      "cell_type": "code",
      "execution_count": 26,
      "metadata": {
        "id": "yCYYAuxcH7pP"
      },
      "outputs": [],
      "source": [
        "model.compile(optimizer='sgd', loss = keras.losses.sparse_categorical_crossentropy, metrics = ['accuracy'])"
      ],
      "id": "yCYYAuxcH7pP"
    },
    {
      "cell_type": "code",
      "execution_count": null,
      "metadata": {
        "id": "hvWeRi7tIJiv"
      },
      "outputs": [],
      "source": [
        "history = model.fit(train_x, train_y, epochs=7, batch_size=10, validation_data=(val_x, val_y))"
      ],
      "id": "hvWeRi7tIJiv"
    },
    {
      "cell_type": "code",
      "source": [
        "import matplotlib.pyplot as plt"
      ],
      "metadata": {
        "id": "XS3j7jbMhOAu"
      },
      "id": "XS3j7jbMhOAu",
      "execution_count": 31,
      "outputs": []
    },
    {
      "cell_type": "code",
      "source": [
        "plt.plot(history.history['accuracy'])\n",
        "plt.plot(history.history['val_accuracy'])\n",
        "plt.title('model accuracy')\n",
        "plt.ylabel('accuracy')\n",
        "plt.xlabel('epoch')\n",
        "plt.legend(['train', 'validation'], loc='upper left')\n",
        "plt.show()"
      ],
      "metadata": {
        "colab": {
          "base_uri": "https://localhost:8080/",
          "height": 295
        },
        "id": "ycsPWGnyg2Te",
        "outputId": "e7e48c46-edd4-4efa-b74b-b0962d0c15c0"
      },
      "id": "ycsPWGnyg2Te",
      "execution_count": 32,
      "outputs": [
        {
          "output_type": "display_data",
          "data": {
            "image/png": "[encoded data removed]",
            "text/plain": [
              "<Figure size 432x288 with 1 Axes>"
            ]
          },
          "metadata": {
            "needs_background": "light"
          }
        }
      ]
    },
    {
      "cell_type": "code",
      "source": [
        "plt.plot(history.history['loss'])\n",
        "plt.plot(history.history['val_loss'])\n",
        "plt.title('model loss')\n",
        "plt.ylabel('loss')\n",
        "plt.xlabel('epoch')\n",
        "plt.legend(['train', 'validation'], loc='upper left')\n",
        "plt.show()"
      ],
      "metadata": {
        "colab": {
          "base_uri": "https://localhost:8080/",
          "height": 295
        },
        "id": "L_hwyDxihHz9",
        "outputId": "5d0334b6-4904-4fab-f369-38582ec062e6"
      },
      "id": "L_hwyDxihHz9",
      "execution_count": 33,
      "outputs": [
        {
          "output_type": "display_data",
          "data": {
            "image/png": "[encoded data removed]",
            "text/plain": [
              "<Figure size 432x288 with 1 Axes>"
            ]
          },
          "metadata": {
            "needs_background": "light"
          }
        }
      ]
    },
    {
      "cell_type": "code",
      "execution_count": 34,
      "metadata": {
        "id": "HMLB5k1OJb-a",
        "colab": {
          "base_uri": "https://localhost:8080/"
        },
        "outputId": "832643d3-fc3f-41be-fea8-14ef6d6407da"
      },
      "outputs": [
        {
          "output_type": "stream",
          "name": "stdout",
          "text": [
            "455/455 [==============================] - 6s 14ms/step - loss: 0.2045 - accuracy: 0.9406\n"
          ]
        },
        {
          "output_type": "execute_result",
          "data": {
            "text/plain": [
              "[0.2044876366853714, 0.9406185746192932]"
            ]
          },
          "metadata": {},
          "execution_count": 34
        }
      ],
      "source": [
        "model.evaluate(test_x, test_y)"
      ],
      "id": "HMLB5k1OJb-a"
    },
    {
      "cell_type": "code",
      "source": [
        "model.save('hdcr_model_1', save_format=\"h5\")"
      ],
      "metadata": {
        "id": "41G8g_phXDYa"
      },
      "id": "41G8g_phXDYa",
      "execution_count": 35,
      "outputs": []
    }
  ],
  "metadata": {
    "colab": {
      "name": "training model.ipynb",
      "provenance": [],
      "collapsed_sections": [],
      "include_colab_link": true
    },
    "kernelspec": {
      "display_name": "Python 3 (ipykernel)",
      "language": "python",
      "name": "python3"
    },
    "language_info": {
      "codemirror_mode": {
        "name": "ipython",
        "version": 3
      },
      "file_extension": ".py",
      "mimetype": "text/x-python",
      "name": "python",
      "nbconvert_exporter": "python",
      "pygments_lexer": "ipython3",
      "version": "3.9.6"
    }
  },
  "nbformat": 4,
  "nbformat_minor": 5
}